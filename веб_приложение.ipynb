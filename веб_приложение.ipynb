{
  "cells": [
    {
      "cell_type": "markdown",
      "metadata": {
        "id": "view-in-github",
        "colab_type": "text"
      },
      "source": [
        "<a href=\"https://colab.research.google.com/github/Tatianabeg/-/blob/main/%D0%B2%D0%B5%D0%B1_%D0%BF%D1%80%D0%B8%D0%BB%D0%BE%D0%B6%D0%B5%D0%BD%D0%B8%D0%B5.ipynb\" target=\"_parent\"><img src=\"https://colab.research.google.com/assets/colab-badge.svg\" alt=\"Open In Colab\"/></a>"
      ]
    },
    {
      "cell_type": "markdown",
      "source": [
        "###Подготовка данных :\n",
        "Для разработки прост0й веб-платформы, которая позволяет вводить данные пользователей и предсказывать уровень удовлетворенности на основе моделей машинного обучения, можно использовать Flask в сочетании с Google Colab для быстрой разработки и внедрения.\n",
        "\n",
        "Модели обучения : Создаем и обучаем модель на основе данных.\n",
        "Создание веб-интерфейса :\n",
        "используйте Flask для создания веб-интерфейса, куда пользователи могут вводить данные.\n"
      ],
      "metadata": {
        "id": "BhsHM-pc6ztg"
      }
    },
    {
      "cell_type": "markdown",
      "source": [
        " Эта команда используется для аутентификации  аккаунта на платформе Ngrok. Ngrok — это инструмент, который позволяет создавать безопасные туннели к локальным серверам через интернет. Это полезно для разработки веб-приложений, когда  нужно предоставить доступ к  локальному серверу (например, Flask или другой веб-сервер) извне.\n",
        "-  Заменить YOUR_AUTH_TOKEN на  фактический токен аутентификации, который вы можете получить после регистрации на сайте Ngrok. Этот токен связывает локальную установку Ngrok с вашим аккаунтом и позволяет использовать нужные функции."
      ],
      "metadata": {
        "id": "ELLeLVMQttxh"
      }
    },
    {
      "cell_type": "code",
      "source": [
        "!ngrok authtoken YOUR_AUTH_TOKEN\n"
      ],
      "metadata": {
        "colab": {
          "base_uri": "https://localhost:8080/"
        },
        "id": "eXDo1u2eDbrO",
        "outputId": "13d34a21-5d11-44ae-b0c2-88afd52be3a4"
      },
      "execution_count": null,
      "outputs": [
        {
          "output_type": "stream",
          "name": "stdout",
          "text": [
            "Authtoken saved to configuration file: /root/.config/ngrok/ngrok.yml\n"
          ]
        }
      ]
    },
    {
      "cell_type": "markdown",
      "source": [
        "Следующая команда устанавливает несколько библиотек Python с помощью менеджера пакетов pip. Каждая из этих библиотек имеет свои функции и предназначение:\n",
        "  - pandas: Библиотека для манипуляции и анализа данных. Она предоставляет структуры данных и функции для работы с табличными данными (DataFrame).\n",
        "  - numpy: Библиотека для работы с многомерными массивами и матрицами, а также для выполнения математических операций над ними.\n",
        "  - scikit-learn: Библиотека для машинного обучения в Python. Она включает в себя множество алгоритмов и инструментов для обработки данных, обучения моделей и оценки их качества.\n",
        "  - Flask: Легковесный веб-фреймворк для создания веб-приложений на Python. Он позволяет легко разрабатывать веб-приложения.\n",
        "  - joblib: Библиотека для сериализации объектов Python (сохранения объектов на диск) и параллельных вычислений. Часто используется для сохранения обученных моделей машинного обучения.\n",
        "  - pyngrok: Обертка вокруг Ngrok, которая упрощает использование этого инструмента в Python-приложениях."
      ],
      "metadata": {
        "id": "8P3rnOdEuiPM"
      }
    },
    {
      "cell_type": "code",
      "source": [
        "!pip install pandas numpy scikit-learn Flask joblib pyngrok\n"
      ],
      "metadata": {
        "colab": {
          "base_uri": "https://localhost:8080/"
        },
        "id": "pOX7WyxN_-g2",
        "outputId": "cc9cb443-3352-468b-bf23-6c3c2dd1f8d7"
      },
      "execution_count": null,
      "outputs": [
        {
          "output_type": "stream",
          "name": "stdout",
          "text": [
            "Requirement already satisfied: pandas in /usr/local/lib/python3.10/dist-packages (2.1.4)\n",
            "Requirement already satisfied: numpy in /usr/local/lib/python3.10/dist-packages (1.26.4)\n",
            "Requirement already satisfied: scikit-learn in /usr/local/lib/python3.10/dist-packages (1.3.2)\n",
            "Requirement already satisfied: Flask in /usr/local/lib/python3.10/dist-packages (2.2.5)\n",
            "Requirement already satisfied: joblib in /usr/local/lib/python3.10/dist-packages (1.4.2)\n",
            "Collecting pyngrok\n",
            "  Downloading pyngrok-7.2.0-py3-none-any.whl.metadata (7.4 kB)\n",
            "Requirement already satisfied: python-dateutil>=2.8.2 in /usr/local/lib/python3.10/dist-packages (from pandas) (2.8.2)\n",
            "Requirement already satisfied: pytz>=2020.1 in /usr/local/lib/python3.10/dist-packages (from pandas) (2024.1)\n",
            "Requirement already satisfied: tzdata>=2022.1 in /usr/local/lib/python3.10/dist-packages (from pandas) (2024.1)\n",
            "Requirement already satisfied: scipy>=1.5.0 in /usr/local/lib/python3.10/dist-packages (from scikit-learn) (1.13.1)\n",
            "Requirement already satisfied: threadpoolctl>=2.0.0 in /usr/local/lib/python3.10/dist-packages (from scikit-learn) (3.5.0)\n",
            "Requirement already satisfied: Werkzeug>=2.2.2 in /usr/local/lib/python3.10/dist-packages (from Flask) (3.0.3)\n",
            "Requirement already satisfied: Jinja2>=3.0 in /usr/local/lib/python3.10/dist-packages (from Flask) (3.1.4)\n",
            "Requirement already satisfied: itsdangerous>=2.0 in /usr/local/lib/python3.10/dist-packages (from Flask) (2.2.0)\n",
            "Requirement already satisfied: click>=8.0 in /usr/local/lib/python3.10/dist-packages (from Flask) (8.1.7)\n",
            "Requirement already satisfied: PyYAML>=5.1 in /usr/local/lib/python3.10/dist-packages (from pyngrok) (6.0.1)\n",
            "Requirement already satisfied: MarkupSafe>=2.0 in /usr/local/lib/python3.10/dist-packages (from Jinja2>=3.0->Flask) (2.1.5)\n",
            "Requirement already satisfied: six>=1.5 in /usr/local/lib/python3.10/dist-packages (from python-dateutil>=2.8.2->pandas) (1.16.0)\n",
            "Downloading pyngrok-7.2.0-py3-none-any.whl (22 kB)\n",
            "Installing collected packages: pyngrok\n",
            "Successfully installed pyngrok-7.2.0\n"
          ]
        }
      ]
    },
    {
      "cell_type": "markdown",
      "source": [
        "Вместе эти команды позволяют  настроить среду разработки для работы с данными, машинным обучением и веб-приложениями. Сначала  аутентифицируется личный аккаунт Ngrok, а затем устанавливаются необходимые библиотеки для анализа данных, построения моделей машинного обучения и создания веб-приложений."
      ],
      "metadata": {
        "id": "c8Sb_k-JvAZ6"
      }
    },
    {
      "cell_type": "markdown",
      "source": [
        "### Обучение модели\n"
      ],
      "metadata": {
        "id": "an9TY3Qg5t1s"
      }
    },
    {
      "cell_type": "markdown",
      "source": [
        "Обучение модели происходит следующим образом:\n",
        "\n",
        "1. **Подготовка данных**: Данные загружаются и обрабатываются (включая кодирование категориальных переменных).\n",
        "2. **Разделение на обучающую и тестовую выборки**: Данные делятся на две части — одна часть используется для обучения модели (обучающая выборка), а другая — для проверки ее качества (тестовая выборка).\n",
        "3. **Предобработка**: Числовые признаки нормализуются с помощью стандартизации перед подачей в модель.\n",
        "4. **Настройка гиперпараметров**: Используется метод Grid Search для нахождения оптимальных значений гиперпараметров модели через перекрестную проверку.\n",
        "5. **Обучение модели**: После нахождения лучших параметров модель обучается на обучающей выборке.\n",
        "6. **Оценка качества**: Модель тестируется на тестовой выборке с использованием метрики RMSE.\n"
      ],
      "metadata": {
        "id": "Ay3qVjIt5zS4"
      }
    },
    {
      "cell_type": "code",
      "source": [
        "import pandas as pd\n",
        "import numpy as np\n",
        "from sklearn.model_selection import train_test_split, GridSearchCV\n",
        "from sklearn.ensemble import RandomForestRegressor\n",
        "from sklearn.metrics import mean_squared_error\n",
        "from sklearn.pipeline import Pipeline\n",
        "from sklearn.preprocessing import StandardScaler\n",
        "from sklearn.compose import ColumnTransformer\n",
        "import joblib\n",
        "from pyngrok import ngrok\n",
        "from flask import Flask, request, render_template_string\n",
        "\n",
        "np.random.seed(42)\n",
        "data = {\n",
        "    'age': np.random.randint(18, 70, size=100),\n",
        "    'gender': np.random.choice(['Male', 'Female'], size=100),\n",
        "    'health': np.random.randint(1, 6, size=100),\n",
        "    'satisfaction': np.random.randint(1, 6, size=100),\n",
        "    'stress_level': np.random.randint(1, 6, size=100),\n",
        "    'income': np.random.randint(20000, 100000, size=100),\n",
        "    'exercise_frequency': np.random.randint(0, 7, size=100),\n",
        "    'sleep_hours': np.random.uniform(4, 10, size=100),\n",
        "    'diet_quality': np.random.randint(1, 6, size=100)\n",
        "}\n",
        "\n",
        "df = pd.DataFrame(data)\n",
        "df = pd.get_dummies(df, columns=['gender'], drop_first=True)\n",
        "\n",
        "# Определение целевой переменной и признаков\n",
        "target = 'satisfaction'\n",
        "features = df.drop(columns=[target])\n",
        "\n",
        "X_train, X_test, y_train, y_test = train_test_split(features, df[target], test_size=0.2, random_state=42)\n",
        "\n",
        "# Определение числовых признаков\n",
        "numeric_features = features.select_dtypes(include=['int64', 'float64']).columns.tolist()\n",
        "\n",
        "# Создание предобработчика признаков\n",
        "numeric_transformer = Pipeline(steps=[\n",
        "    ('scaler', StandardScaler())\n",
        "])\n",
        "\n",
        "preprocessor = ColumnTransformer(\n",
        "    transformers=[\n",
        "        ('num', numeric_transformer, numeric_features)\n",
        "    ])\n",
        "\n",
        "# Создание и обучение модели с использованием GridSearchCV\n",
        "pipeline = Pipeline(steps=[('preprocessor', preprocessor),\n",
        "                           ('regressor', RandomForestRegressor(random_state=42))])\n",
        "\n",
        "param_grid = {\n",
        "    'regressor__n_estimators': [50, 100, 200],\n",
        "    'regressor__max_depth': [None, 10, 20, 30],\n",
        "    'regressor__min_samples_split': [2, 5, 10]\n",
        "}\n",
        "\n",
        "grid_search = GridSearchCV(pipeline, param_grid, cv=5, scoring='neg_mean_squared_error')\n",
        "grid_search.fit(X_train, y_train)\n",
        "\n",
        "# Прогнозирование и оценка модели\n",
        "best_model = grid_search.best_estimator_\n",
        "y_pred = best_model.predict(X_test)\n",
        "mse = mean_squared_error(y_test, y_pred)\n",
        "rmse = np.sqrt(mse)\n",
        "\n",
        "print(f'Best Model RMSE: {rmse}')\n",
        "\n",
        "# Сохранение модели\n",
        "joblib.dump(best_model, 'best_model.pkl')\n",
        "\n",
        "# Сохранение порядка признаков\n",
        "feature_order = features.columns.tolist()\n",
        "joblib.dump(feature_order, 'feature_order.pkl')\n"
      ],
      "metadata": {
        "colab": {
          "base_uri": "https://localhost:8080/"
        },
        "id": "unV8ZUBBfqAK",
        "outputId": "b2a1b997-2599-4447-d90f-307f3d29e053"
      },
      "execution_count": null,
      "outputs": [
        {
          "output_type": "stream",
          "name": "stdout",
          "text": [
            "Best Model RMSE: 1.6305013317686319\n"
          ]
        },
        {
          "output_type": "execute_result",
          "data": {
            "text/plain": [
              "['feature_order.pkl']"
            ]
          },
          "metadata": {},
          "execution_count": 3
        }
      ]
    },
    {
      "cell_type": "markdown",
      "source": [
        "#Код для Flask-приложения, которое использует обученную модель для предсказания уровня удовлетворенности на основе пользовательского ввода."
      ],
      "metadata": {
        "id": "j4v8zNvd6kFs"
      }
    },
    {
      "cell_type": "code",
      "source": [
        "app = Flask(__name__)\n",
        "\n",
        "# Загрузка модели и порядка признаков\n",
        "model = joblib.load('best_model.pkl')\n",
        "feature_order = joblib.load('feature_order.pkl')\n",
        "\n",
        "# HTML шаблоны\n",
        "home_template = '''\n",
        "<form action=\"/predict\" method=\"post\">\n",
        "    Age: <input type=\"number\" name=\"age\" required><br>\n",
        "    Gender:\n",
        "    <select name=\"gender\" required>\n",
        "        <option value=\"Male\">Male</option>\n",
        "        <option value=\"Female\">Female</option>\n",
        "    </select><br>\n",
        "    Health: <input type=\"number\" name=\"health\" min=\"1\" max=\"5\" required><br>\n",
        "    Stress Level: <input type=\"number\" name=\"stress_level\" min=\"1\" max=\"5\" required><br>\n",
        "    Income: <input type=\"number\" name=\"income\" required><br>\n",
        "    Exercise Frequency: <input type=\"number\" name=\"exercise_frequency\" min=\"0\" max=\"7\" required><br>\n",
        "    Sleep Hours: <input type=\"number\" name=\"sleep_hours\" min=\"4\" max=\"10\" step=\"0.1\" required><br>\n",
        "    Diet Quality: <input type=\"number\" name=\"diet_quality\" min=\"1\" max=\"5\" required><br>\n",
        "    <input type=\"submit\" value=\"Submit\">\n",
        "</form>\n",
        "'''\n",
        "# Здесь создается HTML-форма, которая позволяет пользователю вводить данные о себе. Форма отправляет данные на маршрут `/predict`.\n",
        "\n",
        "# Шаблон результата\n",
        "result_template = '''\n",
        "<h2>Prediction Result</h2>\n",
        "<p>Your predicted satisfaction level is: {{ prediction }}</p>\n",
        "'''\n",
        " #Этот шаблон используется для отображения результата предсказания после отправки формы.\n",
        "\n",
        "#Определение маршрутов\n",
        "\n",
        "@app.route('/')\n",
        "def home():\n",
        "    return render_template_string(home_template)\n",
        "#Этот маршрут обрабатывает GET-запросы на корневой URL (`/`). Он возвращает HTML-шаблон с формой для ввода данных.\n",
        "\n",
        "#Маршрут предсказания\n",
        "@app.route('/predict', methods=['POST'])\n",
        "def predict():\n",
        "    if request.method == 'POST':\n",
        "        try:\n",
        "            age = int(request.form['age'])\n",
        "            gender = request.form['gender']\n",
        "            health = int(request.form['health'])\n",
        "            stress_level = int(request.form['stress_level'])\n",
        "            income = int(request.form['income'])\n",
        "            exercise_frequency = int(request.form['exercise_frequency'])\n",
        "            sleep_hours = float(request.form['sleep_hours'])\n",
        "            diet_quality = int(request.form['diet_quality'])\n",
        "\n",
        "            data = {\n",
        "                'age': [age],\n",
        "                'gender_Male': [1 if gender == 'Male' else 0],\n",
        "                'health': [health],\n",
        "                'stress_level': [stress_level],\n",
        "                'income': [income],\n",
        "                'exercise_frequency': [exercise_frequency],\n",
        "                'sleep_hours': [sleep_hours],\n",
        "                'diet_quality': [diet_quality]\n",
        "            }\n",
        "\n",
        "            df = pd.DataFrame(data)\n",
        "            df = df[feature_order]  # Убедимся, что порядок признаков соответствует\n",
        "\n",
        "            prediction = model.predict(df)\n",
        "\n",
        "            return render_template_string(result_template, prediction=prediction[0])\n",
        "        except ValueError as e:\n",
        "            return str(e)\n",
        "#- Этот маршрут обрабатывает POST-запросы на `/predict`, когда пользователь отправляет форму.\n",
        "#- Данные извлекаются из `request.form`, преобразуются в нужные типы (например, `int`, `float`) и помещаются в словарь `data`.\n",
        "#- Создается DataFrame из этого словаря.\n",
        "#- Порядок признаков в DataFrame приводится в соответствие с загруженным порядком (`feature_order`).\n",
        "#- Модель делает предсказание на основе подготовленных данных.\n",
        "#- Результат предсказания отображается с помощью шаблона `result_template`.\n",
        "\n",
        "#Запуск приложения\n",
        "\n",
        "if __name__ == '__main__':\n",
        "    # Установить туннель ngrok\n",
        "    public_url = ngrok.connect(addr=\"5000\")\n",
        "    print('Public URL:', public_url)\n",
        "\n",
        "    # Запуск Flask приложения\n",
        "    app.run(port=5000)\n"
      ],
      "metadata": {
        "colab": {
          "base_uri": "https://localhost:8080/"
        },
        "id": "5n5KZuyGf48g",
        "outputId": "542c648e-3c20-4d09-c50f-38dd29f819d6"
      },
      "execution_count": null,
      "outputs": [
        {
          "metadata": {
            "tags": null
          },
          "name": "stdout",
          "output_type": "stream",
          "text": [
            "Public URL: NgrokTunnel: \"https://518b-34-135-105-129.ngrok-free.app\" -> \"http://localhost:5000\"\n",
            " * Serving Flask app '__main__'\n",
            " * Debug mode: off\n"
          ]
        },
        {
          "output_type": "stream",
          "name": "stderr",
          "text": [
            "INFO:werkzeug:\u001b[31m\u001b[1mWARNING: This is a development server. Do not use it in a production deployment. Use a production WSGI server instead.\u001b[0m\n",
            " * Running on http://127.0.0.1:5000\n",
            "INFO:werkzeug:\u001b[33mPress CTRL+C to quit\u001b[0m\n",
            "INFO:werkzeug:127.0.0.1 - - [06/Aug/2024 16:20:49] \"GET / HTTP/1.1\" 200 -\n",
            "INFO:werkzeug:127.0.0.1 - - [06/Aug/2024 16:20:49] \"\u001b[33mGET /favicon.ico HTTP/1.1\u001b[0m\" 404 -\n",
            "INFO:werkzeug:127.0.0.1 - - [06/Aug/2024 16:29:45] \"POST /predict HTTP/1.1\" 200 -\n",
            "INFO:werkzeug:127.0.0.1 - - [06/Aug/2024 18:19:33] \"GET / HTTP/1.1\" 200 -\n"
          ]
        }
      ]
    },
    {
      "cell_type": "markdown",
      "source": [
        "Проверяется, запускается ли скрипт как основная программа (`__name__ == '__main__'`). Если это так:\n",
        "  - Создается туннель ngrok к локальному серверу на порту 5000, что позволяет получить публичный URL для доступа к приложению из Интернета.\n",
        "  - Запускается сервер Flask на порту 5000."
      ],
      "metadata": {
        "id": "I3v3sLfh7GKw"
      }
    },
    {
      "cell_type": "markdown",
      "source": [
        "1. Пользователь открывает главную страницу по публичному URL и видит форму для ввода данных.\n",
        "2. После заполнения формы и нажатия кнопки \"Submit\", данные отправляются на сервер через POST-запрос.\n",
        "3. Сервер обрабатывает запрос, извлекает данные и создает DataFrame с необходимыми признаками.\n",
        "4. Модель делает предсказание уровня удовлетворенности на основе введенных данных.\n",
        "5. Результат отображается пользователю на новой странице.\n"
      ],
      "metadata": {
        "id": "xCrZTEef7Tig"
      }
    },
    {
      "cell_type": "markdown",
      "source": [
        "#Это приложение предоставляет простой интерфейс для взаимодействия с моделью машинного обучения и позволяет пользователям получать предсказания по введенным данным."
      ],
      "metadata": {
        "id": "vmQYaBfk7gBP"
      }
    }
  ],
  "metadata": {
    "colab": {
      "provenance": [],
      "authorship_tag": "ABX9TyPiaCb1a9Sky6NXO/2a9MHV",
      "include_colab_link": true
    },
    "kernelspec": {
      "display_name": "Python 3",
      "name": "python3"
    },
    "language_info": {
      "name": "python"
    }
  },
  "nbformat": 4,
  "nbformat_minor": 0
}