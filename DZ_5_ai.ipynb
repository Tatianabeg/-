{
  "nbformat": 4,
  "nbformat_minor": 0,
  "metadata": {
    "colab": {
      "provenance": [],
      "name": "DZ.5_ai.ipynb",
      "include_colab_link": true
    },
    "kernelspec": {
      "name": "python3",
      "display_name": "Python 3"
    },
    "language_info": {
      "name": "python"
    }
  },
  "cells": [
    {
      "cell_type": "markdown",
      "metadata": {
        "id": "view-in-github",
        "colab_type": "text"
      },
      "source": [
        "<a href=\"https://colab.research.google.com/github/Tatianabeg/-/blob/main/DZ_5_ai.ipynb\" target=\"_parent\"><img src=\"https://colab.research.google.com/assets/colab-badge.svg\" alt=\"Open In Colab\"/></a>"
      ]
    },
    {
      "cell_type": "code",
      "execution_count": 3,
      "metadata": {
        "id": "ByCt0jzhEjRR"
      },
      "outputs": [],
      "source": [
        "import re\n",
        "\n"
      ]
    },
    {
      "cell_type": "code",
      "source": [
        "with open('train_data.txt', 'r', encoding='utf-8') as f:\n",
        "    text = f.read()\n",
        "    text = text.replace('\\ufeff', '') # убираем первый невидимый символ\n",
        "    text = re.sub(r'[^А-я ]', '', text) # убираем все недопустимые символы\n",
        "\n"
      ],
      "metadata": {
        "id": "UXLGQuo9Exis"
      },
      "execution_count": 4,
      "outputs": []
    },
    {
      "cell_type": "code",
      "source": [
        "num_characters = 34 #33 буквы + пробел"
      ],
      "metadata": {
        "id": "qFzPfHRHFBuJ"
      },
      "execution_count": 5,
      "outputs": []
    },
    {
      "cell_type": "code",
      "source": [
        "import keras\n",
        "from keras.preprocessing.text import Tokenizer"
      ],
      "metadata": {
        "id": "sxlzSW92FCpx"
      },
      "execution_count": 6,
      "outputs": []
    },
    {
      "cell_type": "code",
      "source": [
        "tokenizer = Tokenizer(num_words=num_characters, char_level=True)"
      ],
      "metadata": {
        "id": "DUVKo_pJIc0b"
      },
      "execution_count": 7,
      "outputs": []
    },
    {
      "cell_type": "code",
      "source": [
        "tokenizer.fit_on_texts(text)"
      ],
      "metadata": {
        "id": "bbds9oGaIgQZ"
      },
      "execution_count": 8,
      "outputs": []
    },
    {
      "cell_type": "code",
      "source": [
        "print(tokenizer.word_index)"
      ],
      "metadata": {
        "colab": {
          "base_uri": "https://localhost:8080/"
        },
        "id": "V38FUM7EIjcL",
        "outputId": "fe905ad4-84c5-4a3c-92a2-cb174ba7141d"
      },
      "execution_count": 9,
      "outputs": [
        {
          "output_type": "stream",
          "name": "stdout",
          "text": [
            "{' ': 1, 'о': 2, 'т': 3, 'е': 4, 'и': 5, 'в': 6, 'н': 7, 'с': 8, 'л': 9, 'п': 10, 'ь': 11, 'ы': 12, 'р': 13, 'а': 14, 'д': 15, 'у': 16, 'к': 17, 'з': 18, 'ч': 19, 'й': 20, 'м': 21, 'г': 22, 'б': 23, 'я': 24, 'ш': 25, 'ю': 26, 'х': 27}\n"
          ]
        }
      ]
    },
    {
      "cell_type": "code",
      "source": [
        "inp_chars = 6\n",
        "data = tokenizer.texts_to_matrix(text)"
      ],
      "metadata": {
        "id": "ypHYmbUeJR1n"
      },
      "execution_count": 43,
      "outputs": []
    },
    {
      "cell_type": "code",
      "source": [
        "data"
      ],
      "metadata": {
        "colab": {
          "base_uri": "https://localhost:8080/"
        },
        "id": "2kEO_3iCJU0G",
        "outputId": "6f7e9372-3fb3-4945-db71-2232911d8b7c"
      },
      "execution_count": 44,
      "outputs": [
        {
          "output_type": "execute_result",
          "data": {
            "text/plain": [
              "array([[0., 0., 0., ..., 0., 0., 0.],\n",
              "       [0., 0., 0., ..., 0., 0., 0.],\n",
              "       [0., 1., 0., ..., 0., 0., 0.],\n",
              "       ...,\n",
              "       [0., 0., 0., ..., 0., 0., 0.],\n",
              "       [0., 0., 1., ..., 0., 0., 0.],\n",
              "       [0., 0., 0., ..., 0., 0., 0.]])"
            ]
          },
          "metadata": {},
          "execution_count": 44
        }
      ]
    },
    {
      "cell_type": "code",
      "source": [
        "n = data.shape[0]-inp_chars\n",
        "n  #размер обучающего множества"
      ],
      "metadata": {
        "colab": {
          "base_uri": "https://localhost:8080/"
        },
        "id": "7zr19EtFLQmx",
        "outputId": "4ad51822-0a43-477f-d0b1-992ef73a2337"
      },
      "execution_count": 45,
      "outputs": [
        {
          "output_type": "execute_result",
          "data": {
            "text/plain": [
              "199"
            ]
          },
          "metadata": {},
          "execution_count": 45
        }
      ]
    },
    {
      "cell_type": "code",
      "source": [
        "import numpy as np\n",
        "\n"
      ],
      "metadata": {
        "id": "R5l5FXtpLQ3m"
      },
      "execution_count": 46,
      "outputs": []
    },
    {
      "cell_type": "code",
      "source": [
        "X = np.array([data[i:i+inp_chars, :] for i in range(n)])\n",
        "Y = data[inp_chars:] #предсказание следующего символа"
      ],
      "metadata": {
        "id": "M_iV8sLPLUDG"
      },
      "execution_count": 47,
      "outputs": []
    },
    {
      "cell_type": "code",
      "source": [
        "from keras.layers import *\n",
        "from keras.models import Sequential"
      ],
      "metadata": {
        "id": "vlIdJ-46Lpqz"
      },
      "execution_count": 48,
      "outputs": []
    },
    {
      "cell_type": "code",
      "source": [
        "model = Sequential()\n",
        "model.add(Input((inp_chars, num_characters)))\n",
        "model.add(SimpleRNN(500, activation='tanh'))\n",
        "model.add(Dense(num_characters, activation='softmax'))\n",
        "model.summary()"
      ],
      "metadata": {
        "colab": {
          "base_uri": "https://localhost:8080/"
        },
        "id": "oeJFyjaGLsEl",
        "outputId": "6f90e559-228e-4968-f857-c8288986350a"
      },
      "execution_count": 49,
      "outputs": [
        {
          "output_type": "stream",
          "name": "stdout",
          "text": [
            "Model: \"sequential_4\"\n",
            "_________________________________________________________________\n",
            " Layer (type)                Output Shape              Param #   \n",
            "=================================================================\n",
            " simple_rnn_4 (SimpleRNN)    (None, 500)               267500    \n",
            "                                                                 \n",
            " dense_4 (Dense)             (None, 34)                17034     \n",
            "                                                                 \n",
            "=================================================================\n",
            "Total params: 284534 (1.09 MB)\n",
            "Trainable params: 284534 (1.09 MB)\n",
            "Non-trainable params: 0 (0.00 Byte)\n",
            "_________________________________________________________________\n"
          ]
        }
      ]
    },
    {
      "cell_type": "code",
      "source": [
        "model.compile(loss='categorical_crossentropy', metrics=['accuracy'], optimizer='adam')\n",
        "history = model.fit(X, Y, batch_size=32, epochs=100)"
      ],
      "metadata": {
        "colab": {
          "base_uri": "https://localhost:8080/"
        },
        "id": "HbDziO30MJUu",
        "outputId": "b98af111-2df3-4af9-ed2a-08319b095b8b"
      },
      "execution_count": 50,
      "outputs": [
        {
          "output_type": "stream",
          "name": "stdout",
          "text": [
            "Epoch 1/100\n",
            "7/7 [==============================] - 1s 21ms/step - loss: 3.4163 - accuracy: 0.1055\n",
            "Epoch 2/100\n",
            "7/7 [==============================] - 0s 18ms/step - loss: 2.3916 - accuracy: 0.3317\n",
            "Epoch 3/100\n",
            "7/7 [==============================] - 0s 17ms/step - loss: 1.9858 - accuracy: 0.3920\n",
            "Epoch 4/100\n",
            "7/7 [==============================] - 0s 18ms/step - loss: 1.5636 - accuracy: 0.5729\n",
            "Epoch 5/100\n",
            "7/7 [==============================] - 0s 19ms/step - loss: 1.2833 - accuracy: 0.6231\n",
            "Epoch 6/100\n",
            "7/7 [==============================] - 0s 18ms/step - loss: 1.0516 - accuracy: 0.6834\n",
            "Epoch 7/100\n",
            "7/7 [==============================] - 0s 19ms/step - loss: 0.9377 - accuracy: 0.7286\n",
            "Epoch 8/100\n",
            "7/7 [==============================] - 0s 22ms/step - loss: 0.8023 - accuracy: 0.7739\n",
            "Epoch 9/100\n",
            "7/7 [==============================] - 0s 17ms/step - loss: 0.7375 - accuracy: 0.8090\n",
            "Epoch 10/100\n",
            "7/7 [==============================] - 0s 19ms/step - loss: 0.6107 - accuracy: 0.8693\n",
            "Epoch 11/100\n",
            "7/7 [==============================] - 0s 20ms/step - loss: 0.5710 - accuracy: 0.8593\n",
            "Epoch 12/100\n",
            "7/7 [==============================] - 0s 17ms/step - loss: 0.5839 - accuracy: 0.8442\n",
            "Epoch 13/100\n",
            "7/7 [==============================] - 0s 18ms/step - loss: 0.4765 - accuracy: 0.8995\n",
            "Epoch 14/100\n",
            "7/7 [==============================] - 0s 19ms/step - loss: 0.3794 - accuracy: 0.9397\n",
            "Epoch 15/100\n",
            "7/7 [==============================] - 0s 19ms/step - loss: 0.3812 - accuracy: 0.9246\n",
            "Epoch 16/100\n",
            "7/7 [==============================] - 0s 22ms/step - loss: 0.3369 - accuracy: 0.9296\n",
            "Epoch 17/100\n",
            "7/7 [==============================] - 0s 17ms/step - loss: 0.3111 - accuracy: 0.9347\n",
            "Epoch 18/100\n",
            "7/7 [==============================] - 0s 17ms/step - loss: 0.2756 - accuracy: 0.9397\n",
            "Epoch 19/100\n",
            "7/7 [==============================] - 0s 18ms/step - loss: 0.2469 - accuracy: 0.9447\n",
            "Epoch 20/100\n",
            "7/7 [==============================] - 0s 20ms/step - loss: 0.3042 - accuracy: 0.9397\n",
            "Epoch 21/100\n",
            "7/7 [==============================] - 0s 19ms/step - loss: 0.2559 - accuracy: 0.9497\n",
            "Epoch 22/100\n",
            "7/7 [==============================] - 0s 20ms/step - loss: 0.2408 - accuracy: 0.9447\n",
            "Epoch 23/100\n",
            "7/7 [==============================] - 0s 21ms/step - loss: 0.2078 - accuracy: 0.9598\n",
            "Epoch 24/100\n",
            "7/7 [==============================] - 0s 20ms/step - loss: 0.2101 - accuracy: 0.9548\n",
            "Epoch 25/100\n",
            "7/7 [==============================] - 0s 18ms/step - loss: 0.1782 - accuracy: 0.9598\n",
            "Epoch 26/100\n",
            "7/7 [==============================] - 0s 20ms/step - loss: 0.2044 - accuracy: 0.9698\n",
            "Epoch 27/100\n",
            "7/7 [==============================] - 0s 17ms/step - loss: 0.2449 - accuracy: 0.9548\n",
            "Epoch 28/100\n",
            "7/7 [==============================] - 0s 19ms/step - loss: 0.2244 - accuracy: 0.9397\n",
            "Epoch 29/100\n",
            "7/7 [==============================] - 0s 22ms/step - loss: 0.2774 - accuracy: 0.9497\n",
            "Epoch 30/100\n",
            "7/7 [==============================] - 0s 18ms/step - loss: 0.2251 - accuracy: 0.9648\n",
            "Epoch 31/100\n",
            "7/7 [==============================] - 0s 19ms/step - loss: 0.2240 - accuracy: 0.9648\n",
            "Epoch 32/100\n",
            "7/7 [==============================] - 0s 18ms/step - loss: 0.1373 - accuracy: 0.9799\n",
            "Epoch 33/100\n",
            "7/7 [==============================] - 0s 19ms/step - loss: 0.1441 - accuracy: 0.9648\n",
            "Epoch 34/100\n",
            "7/7 [==============================] - 0s 19ms/step - loss: 0.0981 - accuracy: 0.9799\n",
            "Epoch 35/100\n",
            "7/7 [==============================] - 0s 18ms/step - loss: 0.0841 - accuracy: 0.9899\n",
            "Epoch 36/100\n",
            "7/7 [==============================] - 0s 19ms/step - loss: 0.0775 - accuracy: 0.9899\n",
            "Epoch 37/100\n",
            "7/7 [==============================] - 0s 16ms/step - loss: 0.0607 - accuracy: 0.9950\n",
            "Epoch 38/100\n",
            "7/7 [==============================] - 0s 18ms/step - loss: 0.0570 - accuracy: 0.9950\n",
            "Epoch 39/100\n",
            "7/7 [==============================] - 0s 17ms/step - loss: 0.0766 - accuracy: 0.9849\n",
            "Epoch 40/100\n",
            "7/7 [==============================] - 0s 17ms/step - loss: 0.0548 - accuracy: 0.9799\n",
            "Epoch 41/100\n",
            "7/7 [==============================] - 0s 17ms/step - loss: 0.0496 - accuracy: 0.9950\n",
            "Epoch 42/100\n",
            "7/7 [==============================] - 0s 16ms/step - loss: 0.0492 - accuracy: 0.9899\n",
            "Epoch 43/100\n",
            "7/7 [==============================] - 0s 16ms/step - loss: 0.0651 - accuracy: 0.9899\n",
            "Epoch 44/100\n",
            "7/7 [==============================] - 0s 16ms/step - loss: 0.0573 - accuracy: 0.9799\n",
            "Epoch 45/100\n",
            "7/7 [==============================] - 0s 19ms/step - loss: 0.0440 - accuracy: 0.9950\n",
            "Epoch 46/100\n",
            "7/7 [==============================] - 0s 31ms/step - loss: 0.0592 - accuracy: 0.9899\n",
            "Epoch 47/100\n",
            "7/7 [==============================] - 0s 29ms/step - loss: 0.0406 - accuracy: 0.9950\n",
            "Epoch 48/100\n",
            "7/7 [==============================] - 0s 28ms/step - loss: 0.0482 - accuracy: 0.9799\n",
            "Epoch 49/100\n",
            "7/7 [==============================] - 0s 26ms/step - loss: 0.0408 - accuracy: 0.9950\n",
            "Epoch 50/100\n",
            "7/7 [==============================] - 0s 27ms/step - loss: 0.0453 - accuracy: 0.9950\n",
            "Epoch 51/100\n",
            "7/7 [==============================] - 0s 28ms/step - loss: 0.0438 - accuracy: 0.9849\n",
            "Epoch 52/100\n",
            "7/7 [==============================] - 0s 28ms/step - loss: 0.1602 - accuracy: 0.9698\n",
            "Epoch 53/100\n",
            "7/7 [==============================] - 0s 27ms/step - loss: 0.1005 - accuracy: 0.9749\n",
            "Epoch 54/100\n",
            "7/7 [==============================] - 0s 27ms/step - loss: 0.1394 - accuracy: 0.9799\n",
            "Epoch 55/100\n",
            "7/7 [==============================] - 0s 28ms/step - loss: 0.1089 - accuracy: 0.9799\n",
            "Epoch 56/100\n",
            "7/7 [==============================] - 0s 31ms/step - loss: 0.0770 - accuracy: 0.9899\n",
            "Epoch 57/100\n",
            "7/7 [==============================] - 0s 29ms/step - loss: 0.0545 - accuracy: 0.9849\n",
            "Epoch 58/100\n",
            "7/7 [==============================] - 0s 30ms/step - loss: 0.0509 - accuracy: 0.9849\n",
            "Epoch 59/100\n",
            "7/7 [==============================] - 0s 31ms/step - loss: 0.0710 - accuracy: 0.9950\n",
            "Epoch 60/100\n",
            "7/7 [==============================] - 0s 25ms/step - loss: 0.0842 - accuracy: 0.9899\n",
            "Epoch 61/100\n",
            "7/7 [==============================] - 0s 25ms/step - loss: 0.0855 - accuracy: 0.9749\n",
            "Epoch 62/100\n",
            "7/7 [==============================] - 0s 25ms/step - loss: 0.0641 - accuracy: 0.9799\n",
            "Epoch 63/100\n",
            "7/7 [==============================] - 0s 17ms/step - loss: 0.0474 - accuracy: 1.0000\n",
            "Epoch 64/100\n",
            "7/7 [==============================] - 0s 16ms/step - loss: 0.0551 - accuracy: 0.9849\n",
            "Epoch 65/100\n",
            "7/7 [==============================] - 0s 15ms/step - loss: 0.2553 - accuracy: 0.9548\n",
            "Epoch 66/100\n",
            "7/7 [==============================] - 0s 18ms/step - loss: 0.1489 - accuracy: 0.9749\n",
            "Epoch 67/100\n",
            "7/7 [==============================] - 0s 18ms/step - loss: 0.1126 - accuracy: 0.9598\n",
            "Epoch 68/100\n",
            "7/7 [==============================] - 0s 17ms/step - loss: 0.1025 - accuracy: 0.9648\n",
            "Epoch 69/100\n",
            "7/7 [==============================] - 0s 20ms/step - loss: 0.1409 - accuracy: 0.9698\n",
            "Epoch 70/100\n",
            "7/7 [==============================] - 0s 19ms/step - loss: 0.1146 - accuracy: 0.9749\n",
            "Epoch 71/100\n",
            "7/7 [==============================] - 0s 20ms/step - loss: 0.0799 - accuracy: 0.9799\n",
            "Epoch 72/100\n",
            "7/7 [==============================] - 0s 19ms/step - loss: 0.0763 - accuracy: 0.9698\n",
            "Epoch 73/100\n",
            "7/7 [==============================] - 0s 17ms/step - loss: 0.0780 - accuracy: 0.9749\n",
            "Epoch 74/100\n",
            "7/7 [==============================] - 0s 17ms/step - loss: 0.0774 - accuracy: 0.9799\n",
            "Epoch 75/100\n",
            "7/7 [==============================] - 0s 17ms/step - loss: 0.0540 - accuracy: 0.9799\n",
            "Epoch 76/100\n",
            "7/7 [==============================] - 0s 19ms/step - loss: 0.0442 - accuracy: 0.9849\n",
            "Epoch 77/100\n",
            "7/7 [==============================] - 0s 22ms/step - loss: 0.0424 - accuracy: 0.9899\n",
            "Epoch 78/100\n",
            "7/7 [==============================] - 0s 18ms/step - loss: 0.0327 - accuracy: 0.9950\n",
            "Epoch 79/100\n",
            "7/7 [==============================] - 0s 17ms/step - loss: 0.1769 - accuracy: 0.9598\n",
            "Epoch 80/100\n",
            "7/7 [==============================] - 0s 19ms/step - loss: 0.2983 - accuracy: 0.9548\n",
            "Epoch 81/100\n",
            "7/7 [==============================] - 0s 18ms/step - loss: 0.1705 - accuracy: 0.9548\n",
            "Epoch 82/100\n",
            "7/7 [==============================] - 0s 16ms/step - loss: 0.0679 - accuracy: 0.9849\n",
            "Epoch 83/100\n",
            "7/7 [==============================] - 0s 15ms/step - loss: 0.0679 - accuracy: 0.9799\n",
            "Epoch 84/100\n",
            "7/7 [==============================] - 0s 15ms/step - loss: 0.0730 - accuracy: 0.9849\n",
            "Epoch 85/100\n",
            "7/7 [==============================] - 0s 17ms/step - loss: 0.0603 - accuracy: 0.9950\n",
            "Epoch 86/100\n",
            "7/7 [==============================] - 0s 16ms/step - loss: 0.0900 - accuracy: 0.9749\n",
            "Epoch 87/100\n",
            "7/7 [==============================] - 0s 16ms/step - loss: 0.1031 - accuracy: 0.9799\n",
            "Epoch 88/100\n",
            "7/7 [==============================] - 0s 16ms/step - loss: 0.0366 - accuracy: 0.9950\n",
            "Epoch 89/100\n",
            "7/7 [==============================] - 0s 18ms/step - loss: 0.0321 - accuracy: 0.9899\n",
            "Epoch 90/100\n",
            "7/7 [==============================] - 0s 20ms/step - loss: 0.0234 - accuracy: 0.9950\n",
            "Epoch 91/100\n",
            "7/7 [==============================] - 0s 20ms/step - loss: 0.0226 - accuracy: 0.9950\n",
            "Epoch 92/100\n",
            "7/7 [==============================] - 0s 20ms/step - loss: 0.0220 - accuracy: 0.9899\n",
            "Epoch 93/100\n",
            "7/7 [==============================] - 0s 23ms/step - loss: 0.0189 - accuracy: 0.9950\n",
            "Epoch 94/100\n",
            "7/7 [==============================] - 0s 20ms/step - loss: 0.0191 - accuracy: 0.9950\n",
            "Epoch 95/100\n",
            "7/7 [==============================] - 0s 17ms/step - loss: 0.0184 - accuracy: 0.9899\n",
            "Epoch 96/100\n",
            "7/7 [==============================] - 0s 19ms/step - loss: 0.0181 - accuracy: 0.9899\n",
            "Epoch 97/100\n",
            "7/7 [==============================] - 0s 18ms/step - loss: 0.0165 - accuracy: 0.9950\n",
            "Epoch 98/100\n",
            "7/7 [==============================] - 0s 19ms/step - loss: 0.0197 - accuracy: 0.9849\n",
            "Epoch 99/100\n",
            "7/7 [==============================] - 0s 19ms/step - loss: 0.0170 - accuracy: 0.9899\n",
            "Epoch 100/100\n",
            "7/7 [==============================] - 0s 21ms/step - loss: 0.0182 - accuracy: 0.9950\n"
          ]
        }
      ]
    },
    {
      "cell_type": "code",
      "source": [
        "def buildPhrase(inp_str, str_len = 50):\n",
        "  for i in range(str_len):\n",
        "    x = []\n",
        "    for j in range(i, i+inp_chars):\n",
        "      x.append(tokenizer.texts_to_matrix(inp_str[j])) # преобразуем символы в One-Hot-encoding\n",
        "\n",
        "    x = np.array(x)\n",
        "    inp = x.reshape(1, inp_chars, num_characters)\n",
        "\n",
        "    pred = model.predict( inp ) # предсказываем OHE четвертого символа\n",
        "    d = tokenizer.index_word[pred.argmax(axis=1)[0]] # получаем ответ в символьном представлении\n",
        "\n",
        "    inp_str += d # дописываем строку\n",
        "\n",
        "  return inp_str"
      ],
      "metadata": {
        "id": "5QO0O670Mk3y"
      },
      "execution_count": 51,
      "outputs": []
    },
    {
      "cell_type": "code",
      "source": [
        "res = buildPhrase(\"утренн\")\n",
        "print(res)"
      ],
      "metadata": {
        "colab": {
          "base_uri": "https://localhost:8080/"
        },
        "id": "RRwg3_9tOHHL",
        "outputId": "c2ddd740-3182-4ad0-b932-68d1899b9fb7"
      },
      "execution_count": 52,
      "outputs": [
        {
          "output_type": "stream",
          "name": "stdout",
          "text": [
            "1/1 [==============================] - 0s 141ms/step\n",
            "1/1 [==============================] - 0s 25ms/step\n",
            "1/1 [==============================] - 0s 21ms/step\n",
            "1/1 [==============================] - 0s 21ms/step\n",
            "1/1 [==============================] - 0s 20ms/step\n",
            "1/1 [==============================] - 0s 20ms/step\n",
            "1/1 [==============================] - 0s 23ms/step\n",
            "1/1 [==============================] - 0s 21ms/step\n",
            "1/1 [==============================] - 0s 22ms/step\n",
            "1/1 [==============================] - 0s 25ms/step\n",
            "1/1 [==============================] - 0s 24ms/step\n",
            "1/1 [==============================] - 0s 22ms/step\n",
            "1/1 [==============================] - 0s 29ms/step\n",
            "1/1 [==============================] - 0s 22ms/step\n",
            "1/1 [==============================] - 0s 23ms/step\n",
            "1/1 [==============================] - 0s 26ms/step\n",
            "1/1 [==============================] - 0s 27ms/step\n",
            "1/1 [==============================] - 0s 27ms/step\n",
            "1/1 [==============================] - 0s 24ms/step\n",
            "1/1 [==============================] - 0s 22ms/step\n",
            "1/1 [==============================] - 0s 21ms/step\n",
            "1/1 [==============================] - 0s 20ms/step\n",
            "1/1 [==============================] - 0s 21ms/step\n",
            "1/1 [==============================] - 0s 21ms/step\n",
            "1/1 [==============================] - 0s 24ms/step\n",
            "1/1 [==============================] - 0s 24ms/step\n",
            "1/1 [==============================] - 0s 24ms/step\n",
            "1/1 [==============================] - 0s 21ms/step\n",
            "1/1 [==============================] - 0s 22ms/step\n",
            "1/1 [==============================] - 0s 20ms/step\n",
            "1/1 [==============================] - 0s 20ms/step\n",
            "1/1 [==============================] - 0s 20ms/step\n",
            "1/1 [==============================] - 0s 20ms/step\n",
            "1/1 [==============================] - 0s 26ms/step\n",
            "1/1 [==============================] - 0s 25ms/step\n",
            "1/1 [==============================] - 0s 24ms/step\n",
            "1/1 [==============================] - 0s 28ms/step\n",
            "1/1 [==============================] - 0s 26ms/step\n",
            "1/1 [==============================] - 0s 23ms/step\n",
            "1/1 [==============================] - 0s 24ms/step\n",
            "1/1 [==============================] - 0s 31ms/step\n",
            "1/1 [==============================] - 0s 21ms/step\n",
            "1/1 [==============================] - 0s 25ms/step\n",
            "1/1 [==============================] - 0s 22ms/step\n",
            "1/1 [==============================] - 0s 27ms/step\n",
            "1/1 [==============================] - 0s 25ms/step\n",
            "1/1 [==============================] - 0s 23ms/step\n",
            "1/1 [==============================] - 0s 22ms/step\n",
            "1/1 [==============================] - 0s 23ms/step\n",
            "1/1 [==============================] - 0s 22ms/step\n",
            "утреннев взнпделтник подняться с постели значит вы супер\n"
          ]
        }
      ]
    },
    {
      "cell_type": "markdown",
      "source": [
        "# слова"
      ],
      "metadata": {
        "id": "EdFDv7QEOgJZ"
      }
    },
    {
      "cell_type": "code",
      "source": [
        "with open('train_data.txt', 'r', encoding='utf-8') as f:\n",
        "    texts = f.read()\n",
        "    texts = texts.replace('\\ufeff', '') # убираем первый невидимый символ"
      ],
      "metadata": {
        "id": "TzPVtOPmOixg"
      },
      "execution_count": 53,
      "outputs": []
    },
    {
      "cell_type": "code",
      "source": [
        "maxWordsCount = 1000\n",
        "tokenizer = Tokenizer(num_words=maxWordsCount, filters='!–\"—#$%&amp;()*+,-./:;<=>?@[\\\\]^_`{|}~\\t\\n\\r«»',\n",
        "                       lower=True, split=' ', char_level=False)\n",
        "tokenizer.fit_on_texts([texts])"
      ],
      "metadata": {
        "id": "SXAfIXmIPSgd"
      },
      "execution_count": 54,
      "outputs": []
    },
    {
      "cell_type": "code",
      "source": [
        "print(tokenizer.word_index)"
      ],
      "metadata": {
        "colab": {
          "base_uri": "https://localhost:8080/"
        },
        "id": "3YUWM_RDPe7D",
        "outputId": "4ced5d97-e40e-47b6-c3f8-38bd161eb94d"
      },
      "execution_count": 55,
      "outputs": [
        {
          "output_type": "stream",
          "name": "stdout",
          "text": [
            "{'вы': 1, 'в': 2, 'понедельник': 3, 'лучший': 4, 'ответ': 5, 'на': 6, 'проблемы': 7, 'которые': 8, 'возникли': 9, 'думайте': 10, 'позитивно': 11, 'и': 12, 'верьте': 13, 'свою': 14, 'способность': 15, 'достигать': 16, 'отличных': 17, 'результатов': 18, 'если': 19, 'смогли': 20, 'подняться': 21, 'с': 22, 'постели': 23, 'значит': 24, 'супер': 25, 'герой': 26}\n"
          ]
        }
      ]
    },
    {
      "cell_type": "code",
      "source": [
        "dist = list(tokenizer.word_counts.items())\n",
        "print(dist[:10])"
      ],
      "metadata": {
        "colab": {
          "base_uri": "https://localhost:8080/"
        },
        "id": "QD8FVwJtPvdC",
        "outputId": "4716b11b-a613-46c7-ccf5-a16b26f29a16"
      },
      "execution_count": 56,
      "outputs": [
        {
          "output_type": "stream",
          "name": "stdout",
          "text": [
            "[('вы', 3), ('лучший', 1), ('ответ', 1), ('на', 1), ('проблемы', 1), ('которые', 1), ('возникли', 1), ('в', 3), ('понедельник', 2), ('думайте', 1)]\n"
          ]
        }
      ]
    },
    {
      "cell_type": "code",
      "source": [
        "data = tokenizer.texts_to_sequences([texts])"
      ],
      "metadata": {
        "id": "MT6hH9vxP7DC"
      },
      "execution_count": 57,
      "outputs": []
    },
    {
      "cell_type": "code",
      "source": [
        "data"
      ],
      "metadata": {
        "colab": {
          "base_uri": "https://localhost:8080/"
        },
        "id": "d55cOxc8P8fM",
        "outputId": "2675ab69-0a58-46b2-b05f-793810754ba2"
      },
      "execution_count": 58,
      "outputs": [
        {
          "output_type": "execute_result",
          "data": {
            "text/plain": [
              "[[1,\n",
              "  4,\n",
              "  5,\n",
              "  6,\n",
              "  7,\n",
              "  8,\n",
              "  9,\n",
              "  2,\n",
              "  3,\n",
              "  10,\n",
              "  11,\n",
              "  12,\n",
              "  13,\n",
              "  2,\n",
              "  14,\n",
              "  15,\n",
              "  16,\n",
              "  17,\n",
              "  18,\n",
              "  19,\n",
              "  1,\n",
              "  20,\n",
              "  2,\n",
              "  3,\n",
              "  21,\n",
              "  22,\n",
              "  23,\n",
              "  24,\n",
              "  1,\n",
              "  25,\n",
              "  26]]"
            ]
          },
          "metadata": {},
          "execution_count": 58
        }
      ]
    },
    {
      "cell_type": "code",
      "source": [
        "len (data[0])"
      ],
      "metadata": {
        "colab": {
          "base_uri": "https://localhost:8080/"
        },
        "id": "SOSbEiBvQwxq",
        "outputId": "8ca7eb73-bebd-40fa-aa52-477bf8e916b7"
      },
      "execution_count": 59,
      "outputs": [
        {
          "output_type": "execute_result",
          "data": {
            "text/plain": [
              "31"
            ]
          },
          "metadata": {},
          "execution_count": 59
        }
      ]
    },
    {
      "cell_type": "code",
      "source": [
        "res = keras.utils.to_categorical(data[0], num_classes=maxWordsCount)\n",
        "print( res.shape )"
      ],
      "metadata": {
        "colab": {
          "base_uri": "https://localhost:8080/"
        },
        "id": "yp5oG6kfP8V8",
        "outputId": "44e3cb8e-5a84-46dc-f862-ca92d5f178c2"
      },
      "execution_count": 60,
      "outputs": [
        {
          "output_type": "stream",
          "name": "stdout",
          "text": [
            "(31, 1000)\n"
          ]
        }
      ]
    },
    {
      "cell_type": "code",
      "source": [
        "inp_words = 3\n",
        "n = res.shape[0]-inp_words"
      ],
      "metadata": {
        "id": "GoeVE7mwQ8hr"
      },
      "execution_count": 61,
      "outputs": []
    },
    {
      "cell_type": "code",
      "source": [
        "X = np.array([res[i:i+inp_words, :] for i in range(n)])\n",
        "Y = res[inp_words:]"
      ],
      "metadata": {
        "id": "rMYiB6xgQ_dY"
      },
      "execution_count": 62,
      "outputs": []
    },
    {
      "cell_type": "code",
      "source": [
        "model = Sequential()\n",
        "model.add(Input((inp_words, maxWordsCount)))\n",
        "model.add(SimpleRNN(128, activation='tanh'))\n",
        "model.add(Dense(maxWordsCount, activation='softmax'))\n",
        "model.summary()\n",
        "\n",
        "model.compile(loss='categorical_crossentropy', metrics=['accuracy'], optimizer='adam')"
      ],
      "metadata": {
        "id": "Cy-xdWEVRD15",
        "colab": {
          "base_uri": "https://localhost:8080/"
        },
        "outputId": "d44ef8e5-c1b4-43b4-f000-954466ea8fd7"
      },
      "execution_count": 63,
      "outputs": [
        {
          "output_type": "stream",
          "name": "stdout",
          "text": [
            "Model: \"sequential_5\"\n",
            "_________________________________________________________________\n",
            " Layer (type)                Output Shape              Param #   \n",
            "=================================================================\n",
            " simple_rnn_5 (SimpleRNN)    (None, 128)               144512    \n",
            "                                                                 \n",
            " dense_5 (Dense)             (None, 1000)              129000    \n",
            "                                                                 \n",
            "=================================================================\n",
            "Total params: 273512 (1.04 MB)\n",
            "Trainable params: 273512 (1.04 MB)\n",
            "Non-trainable params: 0 (0.00 Byte)\n",
            "_________________________________________________________________\n"
          ]
        }
      ]
    },
    {
      "cell_type": "code",
      "source": [
        "history = model.fit(X, Y, batch_size=32, epochs=12)"
      ],
      "metadata": {
        "colab": {
          "base_uri": "https://localhost:8080/"
        },
        "id": "51Mz9RojRHWt",
        "outputId": "35536628-d296-49d8-fb4c-62ca2d574c3b"
      },
      "execution_count": 64,
      "outputs": [
        {
          "output_type": "stream",
          "name": "stdout",
          "text": [
            "Epoch 1/12\n",
            "1/1 [==============================] - 1s 1s/step - loss: 6.9128 - accuracy: 0.0000e+00\n",
            "Epoch 2/12\n",
            "1/1 [==============================] - 0s 35ms/step - loss: 6.8872 - accuracy: 0.0000e+00\n",
            "Epoch 3/12\n",
            "1/1 [==============================] - 0s 26ms/step - loss: 6.8613 - accuracy: 0.0000e+00\n",
            "Epoch 4/12\n",
            "1/1 [==============================] - 0s 20ms/step - loss: 6.8350 - accuracy: 0.1071\n",
            "Epoch 5/12\n",
            "1/1 [==============================] - 0s 20ms/step - loss: 6.8080 - accuracy: 0.2857\n",
            "Epoch 6/12\n",
            "1/1 [==============================] - 0s 20ms/step - loss: 6.7800 - accuracy: 0.5357\n",
            "Epoch 7/12\n",
            "1/1 [==============================] - 0s 25ms/step - loss: 6.7507 - accuracy: 0.8571\n",
            "Epoch 8/12\n",
            "1/1 [==============================] - 0s 21ms/step - loss: 6.7200 - accuracy: 0.9286\n",
            "Epoch 9/12\n",
            "1/1 [==============================] - 0s 27ms/step - loss: 6.6873 - accuracy: 1.0000\n",
            "Epoch 10/12\n",
            "1/1 [==============================] - 0s 23ms/step - loss: 6.6524 - accuracy: 1.0000\n",
            "Epoch 11/12\n",
            "1/1 [==============================] - 0s 24ms/step - loss: 6.6149 - accuracy: 1.0000\n",
            "Epoch 12/12\n",
            "1/1 [==============================] - 0s 19ms/step - loss: 6.5741 - accuracy: 1.0000\n"
          ]
        }
      ]
    },
    {
      "cell_type": "code",
      "source": [
        "def buildPhrase(texts, str_len = 21):\n",
        "  res = texts\n",
        "  data = tokenizer.texts_to_sequences([texts])[0]\n",
        "  for i in range(str_len):\n",
        "    x = keras.utils.to_categorical(data[i: i+inp_words], num_classes=maxWordsCount) # преобразуем в One-Hot-encoding\n",
        "    inp = x.reshape(1, inp_words, maxWordsCount)\n",
        "\n",
        "    pred = model.predict( inp ) # предсказываем OHE четвертого символа\n",
        "    indx = pred.argmax(axis=1)[0]\n",
        "    data.append(indx)\n",
        "\n",
        "    res += \" \" + tokenizer.index_word[indx] # дописываем строку\n",
        "\n",
        "  return res"
      ],
      "metadata": {
        "id": "BWTSOxINRNIP"
      },
      "execution_count": 71,
      "outputs": []
    },
    {
      "cell_type": "code",
      "source": [
        "res = buildPhrase(\"лучший ответ на проблемы\")\n",
        "print(res)"
      ],
      "metadata": {
        "colab": {
          "base_uri": "https://localhost:8080/"
        },
        "id": "uVNjSCkqRdxE",
        "outputId": "e31dc3dc-a617-40b3-e9dd-5c367dc88f22"
      },
      "execution_count": 72,
      "outputs": [
        {
          "output_type": "stream",
          "name": "stdout",
          "text": [
            "1/1 [==============================] - 0s 24ms/step\n",
            "1/1 [==============================] - 0s 23ms/step\n",
            "1/1 [==============================] - 0s 34ms/step\n",
            "1/1 [==============================] - 0s 20ms/step\n",
            "1/1 [==============================] - 0s 24ms/step\n",
            "1/1 [==============================] - 0s 24ms/step\n",
            "1/1 [==============================] - 0s 21ms/step\n",
            "1/1 [==============================] - 0s 23ms/step\n",
            "1/1 [==============================] - 0s 23ms/step\n",
            "1/1 [==============================] - 0s 21ms/step\n",
            "1/1 [==============================] - 0s 23ms/step\n",
            "1/1 [==============================] - 0s 22ms/step\n",
            "1/1 [==============================] - 0s 20ms/step\n",
            "1/1 [==============================] - 0s 21ms/step\n",
            "1/1 [==============================] - 0s 23ms/step\n",
            "1/1 [==============================] - 0s 20ms/step\n",
            "1/1 [==============================] - 0s 20ms/step\n",
            "1/1 [==============================] - 0s 20ms/step\n",
            "1/1 [==============================] - 0s 21ms/step\n",
            "1/1 [==============================] - 0s 21ms/step\n",
            "1/1 [==============================] - 0s 24ms/step\n",
            "лучший ответ на проблемы проблемы которые возникли возникли в понедельник понедельник думайте позитивно и и верьте в в свою способность способность достигать отличных отличных результатов\n"
          ]
        }
      ]
    }
  ]
}